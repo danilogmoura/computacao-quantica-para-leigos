{
 "cells": [
  {
   "cell_type": "code",
   "id": "initial_id",
   "metadata": {
    "collapsed": true,
    "ExecuteTime": {
     "end_time": "2024-05-22T00:46:41.086103Z",
     "start_time": "2024-05-22T00:46:41.083036Z"
    }
   },
   "source": "import numpy as np",
   "outputs": [],
   "execution_count": 120
  },
  {
   "metadata": {
    "ExecuteTime": {
     "end_time": "2024-05-22T00:46:41.096902Z",
     "start_time": "2024-05-22T00:46:41.093789Z"
    }
   },
   "cell_type": "code",
   "source": [
    "# definindo um número complexo\n",
    "a = 5 + 3j\n",
    "print(a)"
   ],
   "id": "c759cfe3362e2973",
   "outputs": [
    {
     "name": "stdout",
     "output_type": "stream",
     "text": [
      "(5+3j)\n"
     ]
    }
   ],
   "execution_count": 121
  },
  {
   "metadata": {
    "ExecuteTime": {
     "end_time": "2024-05-22T00:46:41.109720Z",
     "start_time": "2024-05-22T00:46:41.105594Z"
    }
   },
   "cell_type": "code",
   "source": [
    "# módulo de a\n",
    "abs(a)"
   ],
   "id": "dd3ce4cf5aff4cc5",
   "outputs": [
    {
     "data": {
      "text/plain": [
       "5.830951894845301"
      ]
     },
     "execution_count": 122,
     "metadata": {},
     "output_type": "execute_result"
    }
   ],
   "execution_count": 122
  },
  {
   "metadata": {
    "ExecuteTime": {
     "end_time": "2024-05-22T00:46:41.193124Z",
     "start_time": "2024-05-22T00:46:41.189547Z"
    }
   },
   "cell_type": "code",
   "source": [
    "# divisão de 2 números complexo\n",
    "(5 + 3j) / (3 + 1j)"
   ],
   "id": "fb589a5e2e562ba4",
   "outputs": [
    {
     "data": {
      "text/plain": [
       "(1.7999999999999998+0.4j)"
      ]
     },
     "execution_count": 123,
     "metadata": {},
     "output_type": "execute_result"
    }
   ],
   "execution_count": 123
  },
  {
   "metadata": {
    "ExecuteTime": {
     "end_time": "2024-05-22T00:46:41.197287Z",
     "start_time": "2024-05-22T00:46:41.193641Z"
    }
   },
   "cell_type": "code",
   "source": [
    "# parte real de a\n",
    "a.real"
   ],
   "id": "3ea0d7fe495e85e7",
   "outputs": [
    {
     "data": {
      "text/plain": [
       "5.0"
      ]
     },
     "execution_count": 124,
     "metadata": {},
     "output_type": "execute_result"
    }
   ],
   "execution_count": 124
  },
  {
   "metadata": {
    "ExecuteTime": {
     "end_time": "2024-05-22T00:46:41.213750Z",
     "start_time": "2024-05-22T00:46:41.210590Z"
    }
   },
   "cell_type": "code",
   "source": [
    "# parte imaginária de a\n",
    "a.imag"
   ],
   "id": "7378fccb74499108",
   "outputs": [
    {
     "data": {
      "text/plain": [
       "3.0"
      ]
     },
     "execution_count": 125,
     "metadata": {},
     "output_type": "execute_result"
    }
   ],
   "execution_count": 125
  },
  {
   "metadata": {
    "ExecuteTime": {
     "end_time": "2024-05-22T00:46:41.225737Z",
     "start_time": "2024-05-22T00:46:41.222492Z"
    }
   },
   "cell_type": "code",
   "source": [
    "# conjugado do a\n",
    "np.conjugate(a) # ou np.conj(a)  "
   ],
   "id": "6432aa0393829c6a",
   "outputs": [
    {
     "data": {
      "text/plain": [
       "(5-3j)"
      ]
     },
     "execution_count": 126,
     "metadata": {},
     "output_type": "execute_result"
    }
   ],
   "execution_count": 126
  },
  {
   "metadata": {
    "ExecuteTime": {
     "end_time": "2024-05-22T00:46:41.291133Z",
     "start_time": "2024-05-22T00:46:41.287999Z"
    }
   },
   "cell_type": "code",
   "source": [
    "# vetor do tipo linha\n",
    "v0l = np.array([[1, 0]])\n",
    "print(v0l)"
   ],
   "id": "4eff6bc157b3c683",
   "outputs": [
    {
     "name": "stdout",
     "output_type": "stream",
     "text": [
      "[[1 0]]\n"
     ]
    }
   ],
   "execution_count": 127
  },
  {
   "metadata": {
    "ExecuteTime": {
     "end_time": "2024-05-22T00:46:41.309904Z",
     "start_time": "2024-05-22T00:46:41.306111Z"
    }
   },
   "cell_type": "code",
   "source": [
    "# vetor do tipo coluna\n",
    "v0c = np.array([[1], [0]])\n",
    "v0c"
   ],
   "id": "d9fe3149bed5b7cd",
   "outputs": [
    {
     "data": {
      "text/plain": [
       "array([[1],\n",
       "       [0]])"
      ]
     },
     "execution_count": 128,
     "metadata": {},
     "output_type": "execute_result"
    }
   ],
   "execution_count": 128
  },
  {
   "metadata": {
    "ExecuteTime": {
     "end_time": "2024-05-22T00:46:41.322754Z",
     "start_time": "2024-05-22T00:46:41.319190Z"
    }
   },
   "cell_type": "code",
   "source": [
    "# produto de vetores ou matrizes\n",
    "# escalar\n",
    "v0l @ v0c"
   ],
   "id": "5dfa4962be9e12a9",
   "outputs": [
    {
     "data": {
      "text/plain": [
       "array([[1]])"
      ]
     },
     "execution_count": 129,
     "metadata": {},
     "output_type": "execute_result"
    }
   ],
   "execution_count": 129
  },
  {
   "metadata": {
    "ExecuteTime": {
     "end_time": "2024-05-22T00:46:41.352550Z",
     "start_time": "2024-05-22T00:46:41.348969Z"
    }
   },
   "cell_type": "code",
   "source": [
    "# matriz\n",
    "v0c @ v0l"
   ],
   "id": "79363aebab781131",
   "outputs": [
    {
     "data": {
      "text/plain": [
       "array([[1, 0],\n",
       "       [0, 0]])"
      ]
     },
     "execution_count": 130,
     "metadata": {},
     "output_type": "execute_result"
    }
   ],
   "execution_count": 130
  },
  {
   "metadata": {
    "ExecuteTime": {
     "end_time": "2024-05-22T00:46:41.367999Z",
     "start_time": "2024-05-22T00:46:41.364168Z"
    }
   },
   "cell_type": "code",
   "source": "v0c",
   "id": "c8b0507c9152b767",
   "outputs": [
    {
     "data": {
      "text/plain": [
       "array([[1],\n",
       "       [0]])"
      ]
     },
     "execution_count": 131,
     "metadata": {},
     "output_type": "execute_result"
    }
   ],
   "execution_count": 131
  },
  {
   "metadata": {
    "ExecuteTime": {
     "end_time": "2024-05-22T00:46:41.377147Z",
     "start_time": "2024-05-22T00:46:41.372668Z"
    }
   },
   "cell_type": "code",
   "source": [
    "v1c = np.array([[0],[1]])\n",
    "v1c"
   ],
   "id": "52e6c981dce6cb29",
   "outputs": [
    {
     "data": {
      "text/plain": [
       "array([[0],\n",
       "       [1]])"
      ]
     },
     "execution_count": 132,
     "metadata": {},
     "output_type": "execute_result"
    }
   ],
   "execution_count": 132
  },
  {
   "metadata": {
    "ExecuteTime": {
     "end_time": "2024-05-22T00:46:41.409617Z",
     "start_time": "2024-05-22T00:46:41.405152Z"
    }
   },
   "cell_type": "code",
   "source": [
    "psi = (3 + 1j) * v0c / np.sqrt(39) + (5 - 2j) * v1c / np.sqrt(39)\n",
    "psi"
   ],
   "id": "ae685de38eccc8e0",
   "outputs": [
    {
     "data": {
      "text/plain": [
       "array([[0.48038446+0.16012815j],\n",
       "       [0.80064077-0.32025631j]])"
      ]
     },
     "execution_count": 133,
     "metadata": {},
     "output_type": "execute_result"
    }
   ],
   "execution_count": 133
  },
  {
   "metadata": {
    "ExecuteTime": {
     "end_time": "2024-05-22T00:46:41.424344Z",
     "start_time": "2024-05-22T00:46:41.420501Z"
    }
   },
   "cell_type": "code",
   "source": "np.conj(psi)",
   "id": "5db47578588351c0",
   "outputs": [
    {
     "data": {
      "text/plain": [
       "array([[0.48038446-0.16012815j],\n",
       "       [0.80064077+0.32025631j]])"
      ]
     },
     "execution_count": 134,
     "metadata": {},
     "output_type": "execute_result"
    }
   ],
   "execution_count": 134
  },
  {
   "metadata": {
    "ExecuteTime": {
     "end_time": "2024-05-22T00:46:41.429993Z",
     "start_time": "2024-05-22T00:46:41.424864Z"
    }
   },
   "cell_type": "code",
   "source": [
    "# transposto complexo conjugado\n",
    "psid = np.transpose(np.conj(psi))\n",
    "psid"
   ],
   "id": "dae1cefb9d88293",
   "outputs": [
    {
     "data": {
      "text/plain": [
       "array([[0.48038446-0.16012815j, 0.80064077+0.32025631j]])"
      ]
     },
     "execution_count": 135,
     "metadata": {},
     "output_type": "execute_result"
    }
   ],
   "execution_count": 135
  },
  {
   "metadata": {
    "ExecuteTime": {
     "end_time": "2024-05-22T00:46:41.436346Z",
     "start_time": "2024-05-22T00:46:41.432520Z"
    }
   },
   "cell_type": "code",
   "source": "psid@psi",
   "id": "1d1641e7917ee1f1",
   "outputs": [
    {
     "data": {
      "text/plain": [
       "array([[1.+0.j]])"
      ]
     },
     "execution_count": 136,
     "metadata": {},
     "output_type": "execute_result"
    }
   ],
   "execution_count": 136
  },
  {
   "metadata": {
    "ExecuteTime": {
     "end_time": "2024-05-22T00:46:41.471510Z",
     "start_time": "2024-05-22T00:46:41.467713Z"
    }
   },
   "cell_type": "code",
   "source": "psi@psid",
   "id": "954acfceb046c2e",
   "outputs": [
    {
     "data": {
      "text/plain": [
       "array([[0.25641026+0.j        , 0.33333333+0.28205128j],\n",
       "       [0.33333333-0.28205128j, 0.74358974+0.j        ]])"
      ]
     },
     "execution_count": 137,
     "metadata": {},
     "output_type": "execute_result"
    }
   ],
   "execution_count": 137
  },
  {
   "metadata": {
    "ExecuteTime": {
     "end_time": "2024-05-22T00:46:41.485227Z",
     "start_time": "2024-05-22T00:46:41.480280Z"
    }
   },
   "cell_type": "code",
   "source": [
    "Sz = np.array([[1, 0], [0, -1]])\n",
    "Sz"
   ],
   "id": "d0346ff913ebf8bd",
   "outputs": [
    {
     "data": {
      "text/plain": [
       "array([[ 1,  0],\n",
       "       [ 0, -1]])"
      ]
     },
     "execution_count": 138,
     "metadata": {},
     "output_type": "execute_result"
    }
   ],
   "execution_count": 138
  },
  {
   "metadata": {
    "ExecuteTime": {
     "end_time": "2024-05-22T00:46:41.489646Z",
     "start_time": "2024-05-22T00:46:41.485227Z"
    }
   },
   "cell_type": "code",
   "source": "psi",
   "id": "c64212a48ff71aa4",
   "outputs": [
    {
     "data": {
      "text/plain": [
       "array([[0.48038446+0.16012815j],\n",
       "       [0.80064077-0.32025631j]])"
      ]
     },
     "execution_count": 139,
     "metadata": {},
     "output_type": "execute_result"
    }
   ],
   "execution_count": 139
  },
  {
   "metadata": {
    "ExecuteTime": {
     "end_time": "2024-05-22T00:46:41.497034Z",
     "start_time": "2024-05-22T00:46:41.493067Z"
    }
   },
   "cell_type": "code",
   "source": "Sz @ psi",
   "id": "a314cc8c24731504",
   "outputs": [
    {
     "data": {
      "text/plain": [
       "array([[ 0.48038446+0.16012815j],\n",
       "       [-0.80064077+0.32025631j]])"
      ]
     },
     "execution_count": 140,
     "metadata": {},
     "output_type": "execute_result"
    }
   ],
   "execution_count": 140
  },
  {
   "metadata": {
    "ExecuteTime": {
     "end_time": "2024-05-22T00:46:41.535558Z",
     "start_time": "2024-05-22T00:46:41.531473Z"
    }
   },
   "cell_type": "code",
   "source": [
    "Sx = np.array([[0, 1],[1, 0]])\n",
    "Sx"
   ],
   "id": "d50088c8d8b4dcf6",
   "outputs": [
    {
     "data": {
      "text/plain": [
       "array([[0, 1],\n",
       "       [1, 0]])"
      ]
     },
     "execution_count": 141,
     "metadata": {},
     "output_type": "execute_result"
    }
   ],
   "execution_count": 141
  },
  {
   "metadata": {
    "ExecuteTime": {
     "end_time": "2024-05-22T00:46:41.551583Z",
     "start_time": "2024-05-22T00:46:41.548016Z"
    }
   },
   "cell_type": "code",
   "source": "Sx @ psi",
   "id": "d7b63183efd87d84",
   "outputs": [
    {
     "data": {
      "text/plain": [
       "array([[0.80064077-0.32025631j],\n",
       "       [0.48038446+0.16012815j]])"
      ]
     },
     "execution_count": 142,
     "metadata": {},
     "output_type": "execute_result"
    }
   ],
   "execution_count": 142
  }
 ],
 "metadata": {
  "kernelspec": {
   "display_name": "Python 3",
   "language": "python",
   "name": "python3"
  },
  "language_info": {
   "codemirror_mode": {
    "name": "ipython",
    "version": 2
   },
   "file_extension": ".py",
   "mimetype": "text/x-python",
   "name": "python",
   "nbconvert_exporter": "python",
   "pygments_lexer": "ipython2",
   "version": "2.7.6"
  }
 },
 "nbformat": 4,
 "nbformat_minor": 5
}
